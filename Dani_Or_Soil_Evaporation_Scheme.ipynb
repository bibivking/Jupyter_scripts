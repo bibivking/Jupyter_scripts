{
 "cells": [
  {
   "cell_type": "code",
   "execution_count": 1,
   "metadata": {},
   "outputs": [],
   "source": [
    "import os\n",
    "import sys\n",
    "import math\n",
    "import numpy as np\n",
    "import pandas as pd\n",
    "import matplotlib\n",
    "import matplotlib.pyplot as plt\n",
    "import matplotlib.colors\n",
    "from matplotlib import ticker\n",
    "import datetime as dt"
   ]
  },
  {
   "cell_type": "code",
   "execution_count": 5,
   "metadata": {},
   "outputs": [
    {
     "ename": "IndentationError",
     "evalue": "unindent does not match any outer indentation level (<tokenize>, line 58)",
     "output_type": "error",
     "traceback": [
      "\u001b[1;36m  File \u001b[1;32m\"<tokenize>\"\u001b[1;36m, line \u001b[1;32m58\u001b[0m\n\u001b[1;33m    ??? Gamma(alpha +1 )\u001b[0m\n\u001b[1;37m    ^\u001b[0m\n\u001b[1;31mIndentationError\u001b[0m\u001b[1;31m:\u001b[0m unindent does not match any outer indentation level\n"
     ]
    }
   ],
   "source": [
    "# Constant\n",
    "sigma     = 0.071 # (Jm-2) surface tension of liquid water \n",
    "g         = 9.8086# (m s-2) gravity \n",
    "Pi        = math.pi\n",
    "rho       = 1000.\n",
    "rhoa      =       # (kg m-3)density of air \n",
    "Lv        =       # (J kg-1)latent heat of vaporization \n",
    "D         = 0.0000282 # (m2 s-1), diffusion of wtare vapor\n",
    "\n",
    "# input parameters\n",
    "LAI       =  # (m2 m-2) leaf area index \n",
    "Phi_sat   =  # (m) the soil matric potential at saturation \n",
    "Rwv       = *        # gas constand for water vapor\n",
    "d         =  # (m) the displacement height of the canopy  \n",
    "h         =  # (m) canopy height \n",
    "z         =  # height above the soil surface of U_x\n",
    "theta_sat = # saturated water content\n",
    "theta_r   = # residual water content\n",
    "\n",
    "# input data\n",
    "v         =                   # (m2 s-1)the kinematic viscosity of air\n",
    "Phi_1     =         # soil matric potential in the first soil layer\n",
    "Tsrf      = function(K) # soil surface temperature\n",
    "qsat      = function(Tsrf)    # the saturated specific humidity at the surface temperature\n",
    "qa        =  # (kg kg-1) specific humidity of the canopy air ;  the specific humidity of the atmosphere\n",
    "Uair      = #(m s-1) observed wind speed away from the surface and canopy \n",
    "Ux        = # friction velocity\n",
    "U_x       = Ux*exp(Cv*(1.-z/h)) # (m s-1) canopy friction velocity \n",
    "Cv        = # extinction coefficient for wind speed in the canopy\n",
    "theta     = \n",
    "\n",
    "theta_srf = (theta -theta_r)/(theta_sat - theta_r) # relative wetness at the surface\n",
    "K         = function of theta_srf #(m s-1) hydraulic conductivity of the soil at the surface\n",
    "\n",
    "fsp = # sparseness factor, =1 for bare ground; > 1 when canopy presents\n",
    "Csw = # constant determining the rate of decrease of the standard deviation of vertical velocity in the canopy\n",
    "Ctl = # (K s-1) constant, relates the temperature under canopy to the friction velocity and canopy height\n",
    "\n",
    "\n",
    "# calculate rg    \n",
    "qsrf = qsat*math.exp((Phi_1*g)/(Rwv*Tsrf))  # (kg kg-1) specific humidity at the soil surface \n",
    "a_3 = # given by the ratio of the standard deviation of vertical velocity to\n",
    "      # the friction velocity in the inertial sublayer above the canopy\n",
    "L   = #(m) Monin-Obhukov length \n",
    "Z0s = 0.01*LAI + 0.02*U_x**2/g # (m) soil surface roughness height, length scale of the turbulent airflow\n",
    "rg  = math.log(d/Z0s)*(math.exp(2.* Csw* L)-math.exp((2.* Csw* L) *(1 -d/h)))/(2.*a_3**2*fsp*Ctl*Csw*L)\n",
    "      # the resistance for both the sensible and latent heat fluxes from the soil to the canopy air\n",
    "\n",
    "# calculate rsv\n",
    "gamma = ???\n",
    "rsv   = gamma/(4*K)\n",
    "\n",
    "# calculate rBL\n",
    "alpha= 0.3/U_x*(Uair - 1) # time spectrum parameter\n",
    "Chi  = 1\n",
    "for n in np.arange(1,alpha,1):\n",
    "    Chi  = Chi*(2.*alpha+1.)*(2.*(alpha -n)+1)\n",
    " ??? Gamma(alpha +1 )\n",
    "G    = 2.2 * math.sqrt(112* Pi)/Gamma(alpha +1)/ (2**(alpha + 1)*math.sqrt(alpha +1)) * Chi\n",
    "       # dimensionless coefficient dependent on eddy residence time spectrum parameter a (-)\n",
    "delta  = G*v/U_x # depth of the diffusion dominated region at the soil-air interface,\n",
    "                        # within delta molecular diffusion dominates transport \n",
    "F     = 1./(Pi*math.sqrt(theta_srf))*(math.sqrt(Pi/(4.*theta_srf))-1) # surface wetness dependency model from Schlunder (1988), \n",
    "        # the asymptotic solution to constant rate diffusion from a partly wetted surface \n",
    "R     = 2.*sigma/(rho*g*Phi_sat) # pore radius, using Young-Laplace equation\n",
    "rBL   = (delta + R*math.sqrt(Pi)*F)/D\n",
    "\n",
    "# calculate Esoil\n",
    "Esoil = rhoa * Lv * (qsrf - qa)/(rg + Z0s/delta*(rsv+rBL))\n",
    "\n"
   ]
  },
  {
   "cell_type": "code",
   "execution_count": null,
   "metadata": {},
   "outputs": [],
   "source": []
  },
  {
   "cell_type": "code",
   "execution_count": null,
   "metadata": {},
   "outputs": [],
   "source": []
  }
 ],
 "metadata": {
  "kernelspec": {
   "display_name": "Python 3",
   "language": "python",
   "name": "python3"
  },
  "language_info": {
   "codemirror_mode": {
    "name": "ipython",
    "version": 3
   },
   "file_extension": ".py",
   "mimetype": "text/x-python",
   "name": "python",
   "nbconvert_exporter": "python",
   "pygments_lexer": "ipython3",
   "version": "3.7.3"
  }
 },
 "nbformat": 4,
 "nbformat_minor": 2
}
